{
  "nbformat": 4,
  "nbformat_minor": 0,
  "metadata": {
    "colab": {
      "provenance": [],
      "authorship_tag": "ABX9TyODOXIssXHvuSQ+wZSWjLTX"
    },
    "kernelspec": {
      "name": "python3",
      "display_name": "Python 3"
    },
    "language_info": {
      "name": "python"
    }
  },
  "cells": [
    {
      "cell_type": "markdown",
      "source": [
        "## **Using Pandas library to Analyze a videogames Dataset** 🎮\n"
      ],
      "metadata": {
        "id": "YwnSIhHvRz60"
      }
    },
    {
      "cell_type": "code",
      "execution_count": null,
      "metadata": {
        "id": "DBxsRjA1hixZ"
      },
      "outputs": [],
      "source": [
        "import pandas as pd \n",
        "import numpy as np \n",
        "import sqlite3 \n",
        "import matplotlib as plt"
      ]
    },
    {
      "cell_type": "code",
      "source": [
        "videogames = pd.read_csv('dato.csv', sep = ',')"
      ],
      "metadata": {
        "id": "zjJheE6NSqRu"
      },
      "execution_count": null,
      "outputs": []
    },
    {
      "cell_type": "markdown",
      "source": [
        "### Visualização inicial do dataframe"
      ],
      "metadata": {
        "id": "oL46b_VSb3xw"
      }
    },
    {
      "cell_type": "code",
      "source": [
        "videogames.head()"
      ],
      "metadata": {
        "colab": {
          "base_uri": "https://localhost:8080/",
          "height": 206
        },
        "id": "z1KpBg45Y5rs",
        "outputId": "1149de08-f57a-4d35-ca0b-28f517fd9253"
      },
      "execution_count": null,
      "outputs": [
        {
          "output_type": "execute_result",
          "data": {
            "text/plain": [
              "  Platform     Genre Publisher NA_Sales EU_Sales JP_Sales Other_Sales  \\\n",
              "0      Wii    Sports  Nintendo    41,36    28,96     3,77        8,45   \n",
              "1      Wii    Racing  Nintendo    15,68     12,8     3,79        3,29   \n",
              "2      Wii    Sports  Nintendo    15,61    10,95     3,28        2,95   \n",
              "3       DS  Platform  Nintendo    11,28     9,15      6,5        2,88   \n",
              "4      Wii      Misc  Nintendo    13,96     9,18     2,93        2,84   \n",
              "\n",
              "  Global_Sales Rating Critic_Score_Class  \n",
              "0        82,54      E              Bueno  \n",
              "1        35,57      E          Excelente  \n",
              "2        32,78      E          Excelente  \n",
              "3        29,81      E          Excelente  \n",
              "4        28,92      E               Malo  "
            ],
            "text/html": [
              "\n",
              "  <div id=\"df-da11ec91-4bf9-474c-868f-ddaf698fdb2e\">\n",
              "    <div class=\"colab-df-container\">\n",
              "      <div>\n",
              "<style scoped>\n",
              "    .dataframe tbody tr th:only-of-type {\n",
              "        vertical-align: middle;\n",
              "    }\n",
              "\n",
              "    .dataframe tbody tr th {\n",
              "        vertical-align: top;\n",
              "    }\n",
              "\n",
              "    .dataframe thead th {\n",
              "        text-align: right;\n",
              "    }\n",
              "</style>\n",
              "<table border=\"1\" class=\"dataframe\">\n",
              "  <thead>\n",
              "    <tr style=\"text-align: right;\">\n",
              "      <th></th>\n",
              "      <th>Platform</th>\n",
              "      <th>Genre</th>\n",
              "      <th>Publisher</th>\n",
              "      <th>NA_Sales</th>\n",
              "      <th>EU_Sales</th>\n",
              "      <th>JP_Sales</th>\n",
              "      <th>Other_Sales</th>\n",
              "      <th>Global_Sales</th>\n",
              "      <th>Rating</th>\n",
              "      <th>Critic_Score_Class</th>\n",
              "    </tr>\n",
              "  </thead>\n",
              "  <tbody>\n",
              "    <tr>\n",
              "      <th>0</th>\n",
              "      <td>Wii</td>\n",
              "      <td>Sports</td>\n",
              "      <td>Nintendo</td>\n",
              "      <td>41,36</td>\n",
              "      <td>28,96</td>\n",
              "      <td>3,77</td>\n",
              "      <td>8,45</td>\n",
              "      <td>82,54</td>\n",
              "      <td>E</td>\n",
              "      <td>Bueno</td>\n",
              "    </tr>\n",
              "    <tr>\n",
              "      <th>1</th>\n",
              "      <td>Wii</td>\n",
              "      <td>Racing</td>\n",
              "      <td>Nintendo</td>\n",
              "      <td>15,68</td>\n",
              "      <td>12,8</td>\n",
              "      <td>3,79</td>\n",
              "      <td>3,29</td>\n",
              "      <td>35,57</td>\n",
              "      <td>E</td>\n",
              "      <td>Excelente</td>\n",
              "    </tr>\n",
              "    <tr>\n",
              "      <th>2</th>\n",
              "      <td>Wii</td>\n",
              "      <td>Sports</td>\n",
              "      <td>Nintendo</td>\n",
              "      <td>15,61</td>\n",
              "      <td>10,95</td>\n",
              "      <td>3,28</td>\n",
              "      <td>2,95</td>\n",
              "      <td>32,78</td>\n",
              "      <td>E</td>\n",
              "      <td>Excelente</td>\n",
              "    </tr>\n",
              "    <tr>\n",
              "      <th>3</th>\n",
              "      <td>DS</td>\n",
              "      <td>Platform</td>\n",
              "      <td>Nintendo</td>\n",
              "      <td>11,28</td>\n",
              "      <td>9,15</td>\n",
              "      <td>6,5</td>\n",
              "      <td>2,88</td>\n",
              "      <td>29,81</td>\n",
              "      <td>E</td>\n",
              "      <td>Excelente</td>\n",
              "    </tr>\n",
              "    <tr>\n",
              "      <th>4</th>\n",
              "      <td>Wii</td>\n",
              "      <td>Misc</td>\n",
              "      <td>Nintendo</td>\n",
              "      <td>13,96</td>\n",
              "      <td>9,18</td>\n",
              "      <td>2,93</td>\n",
              "      <td>2,84</td>\n",
              "      <td>28,92</td>\n",
              "      <td>E</td>\n",
              "      <td>Malo</td>\n",
              "    </tr>\n",
              "  </tbody>\n",
              "</table>\n",
              "</div>\n",
              "      <button class=\"colab-df-convert\" onclick=\"convertToInteractive('df-da11ec91-4bf9-474c-868f-ddaf698fdb2e')\"\n",
              "              title=\"Convert this dataframe to an interactive table.\"\n",
              "              style=\"display:none;\">\n",
              "        \n",
              "  <svg xmlns=\"http://www.w3.org/2000/svg\" height=\"24px\"viewBox=\"0 0 24 24\"\n",
              "       width=\"24px\">\n",
              "    <path d=\"M0 0h24v24H0V0z\" fill=\"none\"/>\n",
              "    <path d=\"M18.56 5.44l.94 2.06.94-2.06 2.06-.94-2.06-.94-.94-2.06-.94 2.06-2.06.94zm-11 1L8.5 8.5l.94-2.06 2.06-.94-2.06-.94L8.5 2.5l-.94 2.06-2.06.94zm10 10l.94 2.06.94-2.06 2.06-.94-2.06-.94-.94-2.06-.94 2.06-2.06.94z\"/><path d=\"M17.41 7.96l-1.37-1.37c-.4-.4-.92-.59-1.43-.59-.52 0-1.04.2-1.43.59L10.3 9.45l-7.72 7.72c-.78.78-.78 2.05 0 2.83L4 21.41c.39.39.9.59 1.41.59.51 0 1.02-.2 1.41-.59l7.78-7.78 2.81-2.81c.8-.78.8-2.07 0-2.86zM5.41 20L4 18.59l7.72-7.72 1.47 1.35L5.41 20z\"/>\n",
              "  </svg>\n",
              "      </button>\n",
              "      \n",
              "  <style>\n",
              "    .colab-df-container {\n",
              "      display:flex;\n",
              "      flex-wrap:wrap;\n",
              "      gap: 12px;\n",
              "    }\n",
              "\n",
              "    .colab-df-convert {\n",
              "      background-color: #E8F0FE;\n",
              "      border: none;\n",
              "      border-radius: 50%;\n",
              "      cursor: pointer;\n",
              "      display: none;\n",
              "      fill: #1967D2;\n",
              "      height: 32px;\n",
              "      padding: 0 0 0 0;\n",
              "      width: 32px;\n",
              "    }\n",
              "\n",
              "    .colab-df-convert:hover {\n",
              "      background-color: #E2EBFA;\n",
              "      box-shadow: 0px 1px 2px rgba(60, 64, 67, 0.3), 0px 1px 3px 1px rgba(60, 64, 67, 0.15);\n",
              "      fill: #174EA6;\n",
              "    }\n",
              "\n",
              "    [theme=dark] .colab-df-convert {\n",
              "      background-color: #3B4455;\n",
              "      fill: #D2E3FC;\n",
              "    }\n",
              "\n",
              "    [theme=dark] .colab-df-convert:hover {\n",
              "      background-color: #434B5C;\n",
              "      box-shadow: 0px 1px 3px 1px rgba(0, 0, 0, 0.15);\n",
              "      filter: drop-shadow(0px 1px 2px rgba(0, 0, 0, 0.3));\n",
              "      fill: #FFFFFF;\n",
              "    }\n",
              "  </style>\n",
              "\n",
              "      <script>\n",
              "        const buttonEl =\n",
              "          document.querySelector('#df-da11ec91-4bf9-474c-868f-ddaf698fdb2e button.colab-df-convert');\n",
              "        buttonEl.style.display =\n",
              "          google.colab.kernel.accessAllowed ? 'block' : 'none';\n",
              "\n",
              "        async function convertToInteractive(key) {\n",
              "          const element = document.querySelector('#df-da11ec91-4bf9-474c-868f-ddaf698fdb2e');\n",
              "          const dataTable =\n",
              "            await google.colab.kernel.invokeFunction('convertToInteractive',\n",
              "                                                     [key], {});\n",
              "          if (!dataTable) return;\n",
              "\n",
              "          const docLinkHtml = 'Like what you see? Visit the ' +\n",
              "            '<a target=\"_blank\" href=https://colab.research.google.com/notebooks/data_table.ipynb>data table notebook</a>'\n",
              "            + ' to learn more about interactive tables.';\n",
              "          element.innerHTML = '';\n",
              "          dataTable['output_type'] = 'display_data';\n",
              "          await google.colab.output.renderOutput(dataTable, element);\n",
              "          const docLink = document.createElement('div');\n",
              "          docLink.innerHTML = docLinkHtml;\n",
              "          element.appendChild(docLink);\n",
              "        }\n",
              "      </script>\n",
              "    </div>\n",
              "  </div>\n",
              "  "
            ]
          },
          "metadata": {},
          "execution_count": 3
        }
      ]
    },
    {
      "cell_type": "markdown",
      "source": [
        "### Tradução das classificações dos jogos do espanhol para português"
      ],
      "metadata": {
        "id": "LcmzLPoTb-Ur"
      }
    },
    {
      "cell_type": "code",
      "source": [
        "for idx, row in videogames.iterrows(): \n",
        "  if row['Critic_Score_Class'] == 'Bueno':  \n",
        "    row['Critic_Score_Class'] = 'BOM'\n",
        "  \n",
        "  elif row['Critic_Score_Class'] == 'Malo': \n",
        "    row['Critic_Score_Class']  =  'RUIM' \n",
        "\n",
        "  elif row['Critic_Score_Class'] =='Excelente': \n",
        "    row['Critic_Score_Class'] = 'EXCELENTE'\n",
        "  "
      ],
      "metadata": {
        "id": "XiMYQ0n6ZYqz"
      },
      "execution_count": null,
      "outputs": []
    },
    {
      "cell_type": "markdown",
      "source": [
        "### Aquireordenamos as colunas do nosso dataframe 'videogames' para termos dados categóricos no início e dados quantitativos referentes às vendas no final, apenas para fins didáticos. "
      ],
      "metadata": {
        "id": "5vuacA91dUOr"
      }
    },
    {
      "cell_type": "code",
      "source": [
        "videogames = videogames.reindex(columns=['Platform','Genre','Publisher','Critic_Score_Class','Rating','NA_Sales',\\\n",
        "'EU_Sales','JP_Sales','Other_Sales','Global_Sales'])"
      ],
      "metadata": {
        "id": "azcfzvyrZ1TE"
      },
      "execution_count": null,
      "outputs": []
    },
    {
      "cell_type": "code",
      "source": [
        "videogames.head()"
      ],
      "metadata": {
        "colab": {
          "base_uri": "https://localhost:8080/",
          "height": 206
        },
        "id": "DPKQ9Il1dqNu",
        "outputId": "1d08d5b4-8d70-41ee-a67d-326e97ed1c14"
      },
      "execution_count": null,
      "outputs": [
        {
          "output_type": "execute_result",
          "data": {
            "text/plain": [
              "  Platform     Genre Publisher Critic_Score_Class Rating NA_Sales EU_Sales  \\\n",
              "0      Wii    Sports  Nintendo                BOM      E    41,36    28,96   \n",
              "1      Wii    Racing  Nintendo          EXCELENTE      E    15,68     12,8   \n",
              "2      Wii    Sports  Nintendo          EXCELENTE      E    15,61    10,95   \n",
              "3       DS  Platform  Nintendo          EXCELENTE      E    11,28     9,15   \n",
              "4      Wii      Misc  Nintendo               RUIM      E    13,96     9,18   \n",
              "\n",
              "  JP_Sales Other_Sales Global_Sales  \n",
              "0     3,77        8,45        82,54  \n",
              "1     3,79        3,29        35,57  \n",
              "2     3,28        2,95        32,78  \n",
              "3      6,5        2,88        29,81  \n",
              "4     2,93        2,84        28,92  "
            ],
            "text/html": [
              "\n",
              "  <div id=\"df-bffc7036-4cde-4449-969c-10d46a2417bd\">\n",
              "    <div class=\"colab-df-container\">\n",
              "      <div>\n",
              "<style scoped>\n",
              "    .dataframe tbody tr th:only-of-type {\n",
              "        vertical-align: middle;\n",
              "    }\n",
              "\n",
              "    .dataframe tbody tr th {\n",
              "        vertical-align: top;\n",
              "    }\n",
              "\n",
              "    .dataframe thead th {\n",
              "        text-align: right;\n",
              "    }\n",
              "</style>\n",
              "<table border=\"1\" class=\"dataframe\">\n",
              "  <thead>\n",
              "    <tr style=\"text-align: right;\">\n",
              "      <th></th>\n",
              "      <th>Platform</th>\n",
              "      <th>Genre</th>\n",
              "      <th>Publisher</th>\n",
              "      <th>Critic_Score_Class</th>\n",
              "      <th>Rating</th>\n",
              "      <th>NA_Sales</th>\n",
              "      <th>EU_Sales</th>\n",
              "      <th>JP_Sales</th>\n",
              "      <th>Other_Sales</th>\n",
              "      <th>Global_Sales</th>\n",
              "    </tr>\n",
              "  </thead>\n",
              "  <tbody>\n",
              "    <tr>\n",
              "      <th>0</th>\n",
              "      <td>Wii</td>\n",
              "      <td>Sports</td>\n",
              "      <td>Nintendo</td>\n",
              "      <td>BOM</td>\n",
              "      <td>E</td>\n",
              "      <td>41,36</td>\n",
              "      <td>28,96</td>\n",
              "      <td>3,77</td>\n",
              "      <td>8,45</td>\n",
              "      <td>82,54</td>\n",
              "    </tr>\n",
              "    <tr>\n",
              "      <th>1</th>\n",
              "      <td>Wii</td>\n",
              "      <td>Racing</td>\n",
              "      <td>Nintendo</td>\n",
              "      <td>EXCELENTE</td>\n",
              "      <td>E</td>\n",
              "      <td>15,68</td>\n",
              "      <td>12,8</td>\n",
              "      <td>3,79</td>\n",
              "      <td>3,29</td>\n",
              "      <td>35,57</td>\n",
              "    </tr>\n",
              "    <tr>\n",
              "      <th>2</th>\n",
              "      <td>Wii</td>\n",
              "      <td>Sports</td>\n",
              "      <td>Nintendo</td>\n",
              "      <td>EXCELENTE</td>\n",
              "      <td>E</td>\n",
              "      <td>15,61</td>\n",
              "      <td>10,95</td>\n",
              "      <td>3,28</td>\n",
              "      <td>2,95</td>\n",
              "      <td>32,78</td>\n",
              "    </tr>\n",
              "    <tr>\n",
              "      <th>3</th>\n",
              "      <td>DS</td>\n",
              "      <td>Platform</td>\n",
              "      <td>Nintendo</td>\n",
              "      <td>EXCELENTE</td>\n",
              "      <td>E</td>\n",
              "      <td>11,28</td>\n",
              "      <td>9,15</td>\n",
              "      <td>6,5</td>\n",
              "      <td>2,88</td>\n",
              "      <td>29,81</td>\n",
              "    </tr>\n",
              "    <tr>\n",
              "      <th>4</th>\n",
              "      <td>Wii</td>\n",
              "      <td>Misc</td>\n",
              "      <td>Nintendo</td>\n",
              "      <td>RUIM</td>\n",
              "      <td>E</td>\n",
              "      <td>13,96</td>\n",
              "      <td>9,18</td>\n",
              "      <td>2,93</td>\n",
              "      <td>2,84</td>\n",
              "      <td>28,92</td>\n",
              "    </tr>\n",
              "  </tbody>\n",
              "</table>\n",
              "</div>\n",
              "      <button class=\"colab-df-convert\" onclick=\"convertToInteractive('df-bffc7036-4cde-4449-969c-10d46a2417bd')\"\n",
              "              title=\"Convert this dataframe to an interactive table.\"\n",
              "              style=\"display:none;\">\n",
              "        \n",
              "  <svg xmlns=\"http://www.w3.org/2000/svg\" height=\"24px\"viewBox=\"0 0 24 24\"\n",
              "       width=\"24px\">\n",
              "    <path d=\"M0 0h24v24H0V0z\" fill=\"none\"/>\n",
              "    <path d=\"M18.56 5.44l.94 2.06.94-2.06 2.06-.94-2.06-.94-.94-2.06-.94 2.06-2.06.94zm-11 1L8.5 8.5l.94-2.06 2.06-.94-2.06-.94L8.5 2.5l-.94 2.06-2.06.94zm10 10l.94 2.06.94-2.06 2.06-.94-2.06-.94-.94-2.06-.94 2.06-2.06.94z\"/><path d=\"M17.41 7.96l-1.37-1.37c-.4-.4-.92-.59-1.43-.59-.52 0-1.04.2-1.43.59L10.3 9.45l-7.72 7.72c-.78.78-.78 2.05 0 2.83L4 21.41c.39.39.9.59 1.41.59.51 0 1.02-.2 1.41-.59l7.78-7.78 2.81-2.81c.8-.78.8-2.07 0-2.86zM5.41 20L4 18.59l7.72-7.72 1.47 1.35L5.41 20z\"/>\n",
              "  </svg>\n",
              "      </button>\n",
              "      \n",
              "  <style>\n",
              "    .colab-df-container {\n",
              "      display:flex;\n",
              "      flex-wrap:wrap;\n",
              "      gap: 12px;\n",
              "    }\n",
              "\n",
              "    .colab-df-convert {\n",
              "      background-color: #E8F0FE;\n",
              "      border: none;\n",
              "      border-radius: 50%;\n",
              "      cursor: pointer;\n",
              "      display: none;\n",
              "      fill: #1967D2;\n",
              "      height: 32px;\n",
              "      padding: 0 0 0 0;\n",
              "      width: 32px;\n",
              "    }\n",
              "\n",
              "    .colab-df-convert:hover {\n",
              "      background-color: #E2EBFA;\n",
              "      box-shadow: 0px 1px 2px rgba(60, 64, 67, 0.3), 0px 1px 3px 1px rgba(60, 64, 67, 0.15);\n",
              "      fill: #174EA6;\n",
              "    }\n",
              "\n",
              "    [theme=dark] .colab-df-convert {\n",
              "      background-color: #3B4455;\n",
              "      fill: #D2E3FC;\n",
              "    }\n",
              "\n",
              "    [theme=dark] .colab-df-convert:hover {\n",
              "      background-color: #434B5C;\n",
              "      box-shadow: 0px 1px 3px 1px rgba(0, 0, 0, 0.15);\n",
              "      filter: drop-shadow(0px 1px 2px rgba(0, 0, 0, 0.3));\n",
              "      fill: #FFFFFF;\n",
              "    }\n",
              "  </style>\n",
              "\n",
              "      <script>\n",
              "        const buttonEl =\n",
              "          document.querySelector('#df-bffc7036-4cde-4449-969c-10d46a2417bd button.colab-df-convert');\n",
              "        buttonEl.style.display =\n",
              "          google.colab.kernel.accessAllowed ? 'block' : 'none';\n",
              "\n",
              "        async function convertToInteractive(key) {\n",
              "          const element = document.querySelector('#df-bffc7036-4cde-4449-969c-10d46a2417bd');\n",
              "          const dataTable =\n",
              "            await google.colab.kernel.invokeFunction('convertToInteractive',\n",
              "                                                     [key], {});\n",
              "          if (!dataTable) return;\n",
              "\n",
              "          const docLinkHtml = 'Like what you see? Visit the ' +\n",
              "            '<a target=\"_blank\" href=https://colab.research.google.com/notebooks/data_table.ipynb>data table notebook</a>'\n",
              "            + ' to learn more about interactive tables.';\n",
              "          element.innerHTML = '';\n",
              "          dataTable['output_type'] = 'display_data';\n",
              "          await google.colab.output.renderOutput(dataTable, element);\n",
              "          const docLink = document.createElement('div');\n",
              "          docLink.innerHTML = docLinkHtml;\n",
              "          element.appendChild(docLink);\n",
              "        }\n",
              "      </script>\n",
              "    </div>\n",
              "  </div>\n",
              "  "
            ]
          },
          "metadata": {},
          "execution_count": 80
        }
      ]
    },
    {
      "cell_type": "markdown",
      "source": [
        "\n",
        "### Utilizando o Sqlite3 para facilitar as consultas mediante uso do SQL junto ao pandas."
      ],
      "metadata": {
        "id": "kEXAWefNd146"
      }
    },
    {
      "cell_type": "code",
      "source": [
        "connection = sqlite3.connect('videogames') \n",
        "videogames.to_sql('videogames', connection, if_exists='replace', index=False)"
      ],
      "metadata": {
        "colab": {
          "base_uri": "https://localhost:8080/"
        },
        "id": "KA_3aooOd1aK",
        "outputId": "ce836527-7b23-4595-c608-d27832a51a51"
      },
      "execution_count": null,
      "outputs": [
        {
          "output_type": "execute_result",
          "data": {
            "text/plain": [
              "7112"
            ]
          },
          "metadata": {},
          "execution_count": 81
        }
      ]
    },
    {
      "cell_type": "markdown",
      "source": [
        "### Após conectarmos o sqlite3 ao dataframe pandas e convertê-lo ao formato sql, podemos realizar consultas no padrão SQL no dataframe, o que facilita a obtenção de dados e visualização de padrões. \n",
        "### Na consulta abaixo estamo selecionando os gêneros de jogos classificados como bons, de maneira única e ordenando pela quantidade de vendas no Japão, América do Norte e Europa, consecutivamente."
      ],
      "metadata": {
        "id": "UI0_cqGtfj4e"
      }
    },
    {
      "cell_type": "code",
      "source": [
        "result_japan = pd.read_sql_query(\"SELECT DISTINCT Genre FROM videogames WHERE Critic_Score_Class = 'BOM' ORDER BY JP_Sales\", connection) \n",
        "result_north_america = pd.read_sql_query(\"SELECT DISTINCT Genre FROM videogames WHERE Critic_Score_Class = 'BOM' ORDER BY NA_Sales\", connection) \n",
        "result_europe = pd.read_sql_query(\"SELECT DISTINCT Genre FROM videogames WHERE Critic_Score_Class = 'BOM' ORDER BY EU_sales\", connection) "
      ],
      "metadata": {
        "id": "JT8F8f1IfMRi"
      },
      "execution_count": null,
      "outputs": []
    },
    {
      "cell_type": "markdown",
      "source": [
        "### Avaliando as plataformas de acordo com a quantidade de jogos em cada categoria de classificação (EXCELENTE, BOM ou RUIM)"
      ],
      "metadata": {
        "id": "J1gL9CxDKWgG"
      }
    },
    {
      "cell_type": "code",
      "source": [
        "evaluation_platform_goodgames = pd.read_sql_query(\"SELECT DISTINCT Platform, COUNT(Critic_Score_Class) FROM videogames WHERE Critic_Score_Class = 'BOM' GROUP BY Platform ORDER BY COUNT(Critic_Score_Class) DESC\", connection)\n",
        "evaluation_platform_excgames = pd.read_sql_query(\"SELECT DISTINCT Platform, COUNT(Critic_Score_Class) FROM videogames WHERE Critic_Score_Class = 'EXCELENTE' GROUP BY Platform ORDER BY COUNT(Critic_Score_Class) DESC\", connection)\n",
        "evaluation_platform_badgames = pd.read_sql_query(\"SELECT DISTINCT Platform, COUNT(Critic_Score_Class) FROM videogames WHERE Critic_Score_Class = 'RUIM' GROUP BY Platform ORDER BY COUNT(Critic_Score_Class) DESC\", connection)"
      ],
      "metadata": {
        "id": "R8Za5FOIKTwz"
      },
      "execution_count": null,
      "outputs": []
    },
    {
      "cell_type": "markdown",
      "source": [
        "### Avaliando a quantidade de vendas globais por classificação"
      ],
      "metadata": {
        "id": "c6hceWAfSikr"
      }
    },
    {
      "cell_type": "code",
      "source": [
        "sales_goodgames = pd.read_sql_query(\"SELECT DISTINCT Critic_Score_Class, SUM(Global_Sales) FROM videogames WHERE Critic_Score_Class = 'BOM' \",connection)\n",
        "sales_excgames = pd.read_sql_query(\"SELECT DISTINCT Critic_Score_Class, SUM(Global_Sales) FROM videogames WHERE Critic_Score_Class = 'EXCELENTE' \",connection)\n",
        "sales_badgames = pd.read_sql_query(\"SELECT DISTINCT Critic_Score_Class, SUM(Global_Sales) FROM videogames WHERE Critic_Score_Class = 'RUIM' \",connection)"
      ],
      "metadata": {
        "id": "JJ-Ezb1FSqtT"
      },
      "execution_count": null,
      "outputs": []
    },
    {
      "cell_type": "code",
      "source": [
        "sales_by_evaluation = pd.DataFrame(sales_goodgames) \n",
        "sales_by_evaluation = sales_by_evaluation.append(sales_excgames)\n",
        "sales_by_evaluation = sales_by_evaluation.append(sales_badgames)\n"
      ],
      "metadata": {
        "id": "KDmqL2DDUCz5"
      },
      "execution_count": null,
      "outputs": []
    },
    {
      "cell_type": "code",
      "source": [
        "sales_by_evaluation = sales_by_evaluation.sort_values(by=['SUM(Global_Sales)'], ascending = False) \n",
        "sales_by_evaluation"
      ],
      "metadata": {
        "colab": {
          "base_uri": "https://localhost:8080/",
          "height": 143
        },
        "id": "S5IoPDsnXGSf",
        "outputId": "eb6317d2-d636-457c-8f32-fd875fd97657"
      },
      "execution_count": null,
      "outputs": [
        {
          "output_type": "execute_result",
          "data": {
            "text/plain": [
              "  Critic_Score_Class  SUM(Global_Sales)\n",
              "0          EXCELENTE             2220.0\n",
              "0                BOM              660.0\n",
              "0               RUIM              119.0"
            ],
            "text/html": [
              "\n",
              "  <div id=\"df-99fa13e8-97d2-450f-9ffc-bf7c94e1baae\">\n",
              "    <div class=\"colab-df-container\">\n",
              "      <div>\n",
              "<style scoped>\n",
              "    .dataframe tbody tr th:only-of-type {\n",
              "        vertical-align: middle;\n",
              "    }\n",
              "\n",
              "    .dataframe tbody tr th {\n",
              "        vertical-align: top;\n",
              "    }\n",
              "\n",
              "    .dataframe thead th {\n",
              "        text-align: right;\n",
              "    }\n",
              "</style>\n",
              "<table border=\"1\" class=\"dataframe\">\n",
              "  <thead>\n",
              "    <tr style=\"text-align: right;\">\n",
              "      <th></th>\n",
              "      <th>Critic_Score_Class</th>\n",
              "      <th>SUM(Global_Sales)</th>\n",
              "    </tr>\n",
              "  </thead>\n",
              "  <tbody>\n",
              "    <tr>\n",
              "      <th>0</th>\n",
              "      <td>EXCELENTE</td>\n",
              "      <td>2220.0</td>\n",
              "    </tr>\n",
              "    <tr>\n",
              "      <th>0</th>\n",
              "      <td>BOM</td>\n",
              "      <td>660.0</td>\n",
              "    </tr>\n",
              "    <tr>\n",
              "      <th>0</th>\n",
              "      <td>RUIM</td>\n",
              "      <td>119.0</td>\n",
              "    </tr>\n",
              "  </tbody>\n",
              "</table>\n",
              "</div>\n",
              "      <button class=\"colab-df-convert\" onclick=\"convertToInteractive('df-99fa13e8-97d2-450f-9ffc-bf7c94e1baae')\"\n",
              "              title=\"Convert this dataframe to an interactive table.\"\n",
              "              style=\"display:none;\">\n",
              "        \n",
              "  <svg xmlns=\"http://www.w3.org/2000/svg\" height=\"24px\"viewBox=\"0 0 24 24\"\n",
              "       width=\"24px\">\n",
              "    <path d=\"M0 0h24v24H0V0z\" fill=\"none\"/>\n",
              "    <path d=\"M18.56 5.44l.94 2.06.94-2.06 2.06-.94-2.06-.94-.94-2.06-.94 2.06-2.06.94zm-11 1L8.5 8.5l.94-2.06 2.06-.94-2.06-.94L8.5 2.5l-.94 2.06-2.06.94zm10 10l.94 2.06.94-2.06 2.06-.94-2.06-.94-.94-2.06-.94 2.06-2.06.94z\"/><path d=\"M17.41 7.96l-1.37-1.37c-.4-.4-.92-.59-1.43-.59-.52 0-1.04.2-1.43.59L10.3 9.45l-7.72 7.72c-.78.78-.78 2.05 0 2.83L4 21.41c.39.39.9.59 1.41.59.51 0 1.02-.2 1.41-.59l7.78-7.78 2.81-2.81c.8-.78.8-2.07 0-2.86zM5.41 20L4 18.59l7.72-7.72 1.47 1.35L5.41 20z\"/>\n",
              "  </svg>\n",
              "      </button>\n",
              "      \n",
              "  <style>\n",
              "    .colab-df-container {\n",
              "      display:flex;\n",
              "      flex-wrap:wrap;\n",
              "      gap: 12px;\n",
              "    }\n",
              "\n",
              "    .colab-df-convert {\n",
              "      background-color: #E8F0FE;\n",
              "      border: none;\n",
              "      border-radius: 50%;\n",
              "      cursor: pointer;\n",
              "      display: none;\n",
              "      fill: #1967D2;\n",
              "      height: 32px;\n",
              "      padding: 0 0 0 0;\n",
              "      width: 32px;\n",
              "    }\n",
              "\n",
              "    .colab-df-convert:hover {\n",
              "      background-color: #E2EBFA;\n",
              "      box-shadow: 0px 1px 2px rgba(60, 64, 67, 0.3), 0px 1px 3px 1px rgba(60, 64, 67, 0.15);\n",
              "      fill: #174EA6;\n",
              "    }\n",
              "\n",
              "    [theme=dark] .colab-df-convert {\n",
              "      background-color: #3B4455;\n",
              "      fill: #D2E3FC;\n",
              "    }\n",
              "\n",
              "    [theme=dark] .colab-df-convert:hover {\n",
              "      background-color: #434B5C;\n",
              "      box-shadow: 0px 1px 3px 1px rgba(0, 0, 0, 0.15);\n",
              "      filter: drop-shadow(0px 1px 2px rgba(0, 0, 0, 0.3));\n",
              "      fill: #FFFFFF;\n",
              "    }\n",
              "  </style>\n",
              "\n",
              "      <script>\n",
              "        const buttonEl =\n",
              "          document.querySelector('#df-99fa13e8-97d2-450f-9ffc-bf7c94e1baae button.colab-df-convert');\n",
              "        buttonEl.style.display =\n",
              "          google.colab.kernel.accessAllowed ? 'block' : 'none';\n",
              "\n",
              "        async function convertToInteractive(key) {\n",
              "          const element = document.querySelector('#df-99fa13e8-97d2-450f-9ffc-bf7c94e1baae');\n",
              "          const dataTable =\n",
              "            await google.colab.kernel.invokeFunction('convertToInteractive',\n",
              "                                                     [key], {});\n",
              "          if (!dataTable) return;\n",
              "\n",
              "          const docLinkHtml = 'Like what you see? Visit the ' +\n",
              "            '<a target=\"_blank\" href=https://colab.research.google.com/notebooks/data_table.ipynb>data table notebook</a>'\n",
              "            + ' to learn more about interactive tables.';\n",
              "          element.innerHTML = '';\n",
              "          dataTable['output_type'] = 'display_data';\n",
              "          await google.colab.output.renderOutput(dataTable, element);\n",
              "          const docLink = document.createElement('div');\n",
              "          docLink.innerHTML = docLinkHtml;\n",
              "          element.appendChild(docLink);\n",
              "        }\n",
              "      </script>\n",
              "    </div>\n",
              "  </div>\n",
              "  "
            ]
          },
          "metadata": {},
          "execution_count": 121
        }
      ]
    }
  ]
}